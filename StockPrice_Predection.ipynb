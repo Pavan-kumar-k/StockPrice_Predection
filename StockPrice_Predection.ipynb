{
  "nbformat": 4,
  "nbformat_minor": 0,
  "metadata": {
    "colab": {
      "name": "StockPrice_Predection.ipynb",
      "version": "0.3.2",
      "provenance": [],
      "include_colab_link": true
    },
    "kernelspec": {
      "name": "python3",
      "display_name": "Python 3"
    },
    "accelerator": "TPU"
  },
  "cells": [
    {
      "cell_type": "markdown",
      "metadata": {
        "id": "view-in-github",
        "colab_type": "text"
      },
      "source": [
        "<a href=\"https://colab.research.google.com/github/pavan-07/Stock_prediction/blob/master/StockPrice_Predection.ipynb\" target=\"_parent\"><img src=\"https://colab.research.google.com/assets/colab-badge.svg\" alt=\"Open In Colab\"/></a>"
      ]
    },
    {
      "metadata": {
        "id": "LGktKbj3pVqO",
        "colab_type": "code",
        "colab": {}
      },
      "cell_type": "code",
      "source": [
        "#!pip install -q yahoofinancials\n",
        "#!pip install -q pandas_datareader\n",
        "#!pip install -q fix_yahoo_finance"
      ],
      "execution_count": 0,
      "outputs": []
    },
    {
      "metadata": {
        "id": "ErlIHbzkXgMB",
        "colab_type": "code",
        "colab": {
          "base_uri": "https://localhost:8080/",
          "height": 34
        },
        "outputId": "984771f4-38a0-4666-ba2f-a4acf4f40d48"
      },
      "cell_type": "code",
      "source": [
        "# https://keras.io/\n",
        "#!pip install -q keras\n",
        "\n",
        "# Importing the Keras libraries and packages\n",
        "import keras\n",
        "from keras.models import Model, Sequential\n",
        "from keras.layers.core import Dense, Activation, Dropout\n",
        "#from keras.layers.recurrent import LSTM\n",
        "# from keras.layers import Conv2D, MaxPooling2D\n",
        "from keras import backend as K\n",
        "#from keras.utils import np_utils \n",
        "from keras.optimizers import Adam,rmsprop\n",
        "from sklearn.model_selection import train_test_split\n",
        "\n",
        "# Importing the libraries\n",
        "import numpy as np\n",
        "import matplotlib.pyplot as plt\n",
        "import pandas as pd"
      ],
      "execution_count": 2,
      "outputs": [
        {
          "output_type": "stream",
          "text": [
            "Using TensorFlow backend.\n"
          ],
          "name": "stderr"
        }
      ]
    },
    {
      "metadata": {
        "id": "wcfvgHGqpldn",
        "colab_type": "code",
        "colab": {}
      },
      "cell_type": "code",
      "source": [
        "#Importing file...!\n",
        "#from google.colab import files\n",
        "#files.upload()"
      ],
      "execution_count": 0,
      "outputs": []
    },
    {
      "metadata": {
        "id": "FCVaGT7LWw4k",
        "colab_type": "code",
        "colab": {}
      },
      "cell_type": "code",
      "source": [
        "#from pandas_datareader import data\n",
        "#import fix_yahoo_finance as yf\n",
        "#yf.pdr_override() \n",
        "\n",
        "#symbol = 'AMZN'\n",
        "#data_source='google'\n",
        "#start_date = '1995-05-26'\n",
        "#end_date = '2018-08-14'\n",
        "#df = data.get_data_yahoo(symbol, start_date, end_date)\n",
        "#print(df)\n",
        "#df.head()"
      ],
      "execution_count": 0,
      "outputs": []
    },
    {
      "metadata": {
        "id": "SLBeef3mp3Pr",
        "colab_type": "code",
        "colab": {
          "base_uri": "https://localhost:8080/",
          "height": 204
        },
        "outputId": "8312577b-b682-442e-c530-f62f5430beaf"
      },
      "cell_type": "code",
      "source": [
        "# Importing the dataset and Set the index to date...!\n",
        "    df = pd.read_csv('HDFCBANK.BO.csv')\n",
        "    np_index = df.loc[pd.isna(df.Open)].index\n",
        "    #df = df.nan(na_index)\n",
        "    df['Date'] = pd.to_datetime(df[\"Date\"])\n",
        "    df.replace(np.nan, 0, inplace=True)\n",
        "    df.head()\n",
        "    "
      ],
      "execution_count": 111,
      "outputs": [
        {
          "output_type": "execute_result",
          "data": {
            "text/html": [
              "<div>\n",
              "<style scoped>\n",
              "    .dataframe tbody tr th:only-of-type {\n",
              "        vertical-align: middle;\n",
              "    }\n",
              "\n",
              "    .dataframe tbody tr th {\n",
              "        vertical-align: top;\n",
              "    }\n",
              "\n",
              "    .dataframe thead th {\n",
              "        text-align: right;\n",
              "    }\n",
              "</style>\n",
              "<table border=\"1\" class=\"dataframe\">\n",
              "  <thead>\n",
              "    <tr style=\"text-align: right;\">\n",
              "      <th></th>\n",
              "      <th>Date</th>\n",
              "      <th>Open</th>\n",
              "      <th>High</th>\n",
              "      <th>Low</th>\n",
              "      <th>Close</th>\n",
              "      <th>Adj Close</th>\n",
              "      <th>Volume</th>\n",
              "    </tr>\n",
              "  </thead>\n",
              "  <tbody>\n",
              "    <tr>\n",
              "      <th>0</th>\n",
              "      <td>1995-05-26</td>\n",
              "      <td>8.40</td>\n",
              "      <td>9.00</td>\n",
              "      <td>7.70</td>\n",
              "      <td>8.00</td>\n",
              "      <td>3.795235</td>\n",
              "      <td>0.0</td>\n",
              "    </tr>\n",
              "    <tr>\n",
              "      <th>1</th>\n",
              "      <td>1995-05-29</td>\n",
              "      <td>7.80</td>\n",
              "      <td>8.05</td>\n",
              "      <td>7.75</td>\n",
              "      <td>7.85</td>\n",
              "      <td>3.724073</td>\n",
              "      <td>0.0</td>\n",
              "    </tr>\n",
              "    <tr>\n",
              "      <th>2</th>\n",
              "      <td>1995-05-30</td>\n",
              "      <td>7.80</td>\n",
              "      <td>8.00</td>\n",
              "      <td>7.80</td>\n",
              "      <td>7.90</td>\n",
              "      <td>3.747794</td>\n",
              "      <td>0.0</td>\n",
              "    </tr>\n",
              "    <tr>\n",
              "      <th>3</th>\n",
              "      <td>1995-05-31</td>\n",
              "      <td>7.95</td>\n",
              "      <td>8.05</td>\n",
              "      <td>7.90</td>\n",
              "      <td>8.05</td>\n",
              "      <td>3.818955</td>\n",
              "      <td>0.0</td>\n",
              "    </tr>\n",
              "    <tr>\n",
              "      <th>4</th>\n",
              "      <td>1995-06-01</td>\n",
              "      <td>0.00</td>\n",
              "      <td>0.00</td>\n",
              "      <td>0.00</td>\n",
              "      <td>0.00</td>\n",
              "      <td>0.000000</td>\n",
              "      <td>0.0</td>\n",
              "    </tr>\n",
              "  </tbody>\n",
              "</table>\n",
              "</div>"
            ],
            "text/plain": [
              "        Date  Open  High   Low  Close  Adj Close  Volume\n",
              "0 1995-05-26  8.40  9.00  7.70   8.00   3.795235     0.0\n",
              "1 1995-05-29  7.80  8.05  7.75   7.85   3.724073     0.0\n",
              "2 1995-05-30  7.80  8.00  7.80   7.90   3.747794     0.0\n",
              "3 1995-05-31  7.95  8.05  7.90   8.05   3.818955     0.0\n",
              "4 1995-06-01  0.00  0.00  0.00   0.00   0.000000     0.0"
            ]
          },
          "metadata": {
            "tags": []
          },
          "execution_count": 111
        }
      ]
    },
    {
      "metadata": {
        "id": "Oos4ZtCYF1XL",
        "colab_type": "code",
        "colab": {}
      },
      "cell_type": "code",
      "source": [
        "features = df[['Open',\t'High',\t'Low',\t'Close']]\n",
        "#fe=features['Close']\n",
        "features = features[:-1]\n",
        "target = df[['Adj Close']]\n",
        "target = target[:-1]\n",
        "f=features[['Open',\t'High',\t'Low',\t'Close']]\n",
        "f=f[len(f)-4:len(f)]\n",
        "#print(f)"
      ],
      "execution_count": 0,
      "outputs": []
    },
    {
      "metadata": {
        "id": "jv9f_N6CnCBM",
        "colab_type": "code",
        "colab": {
          "base_uri": "https://localhost:8080/",
          "height": 204
        },
        "outputId": "c1fd52ad-d564-4d2b-e3b1-857b26cf213a"
      },
      "cell_type": "code",
      "source": [
        "df = df[[ 'Open',\t'High',\t'Low',\t'Close','Adj Close', 'Volume']]\n",
        "#print(df)\n",
        "df['H_L'] = (df['High'] - df['Low'])/df['Low']*100\n",
        "#print(df['H_L'])\n",
        "df['O_AC'] = (df['Open'] - df['Adj Close'])/df['Adj Close']*100\n",
        "#print(df['O_AC'])\n",
        "df=df[['O_AC','H_L','Close','Volume']]\n",
        "df.head()"
      ],
      "execution_count": 113,
      "outputs": [
        {
          "output_type": "execute_result",
          "data": {
            "text/html": [
              "<div>\n",
              "<style scoped>\n",
              "    .dataframe tbody tr th:only-of-type {\n",
              "        vertical-align: middle;\n",
              "    }\n",
              "\n",
              "    .dataframe tbody tr th {\n",
              "        vertical-align: top;\n",
              "    }\n",
              "\n",
              "    .dataframe thead th {\n",
              "        text-align: right;\n",
              "    }\n",
              "</style>\n",
              "<table border=\"1\" class=\"dataframe\">\n",
              "  <thead>\n",
              "    <tr style=\"text-align: right;\">\n",
              "      <th></th>\n",
              "      <th>O_AC</th>\n",
              "      <th>H_L</th>\n",
              "      <th>Close</th>\n",
              "      <th>Volume</th>\n",
              "    </tr>\n",
              "  </thead>\n",
              "  <tbody>\n",
              "    <tr>\n",
              "      <th>0</th>\n",
              "      <td>121.330168</td>\n",
              "      <td>16.883117</td>\n",
              "      <td>8.00</td>\n",
              "      <td>0.0</td>\n",
              "    </tr>\n",
              "    <tr>\n",
              "      <th>1</th>\n",
              "      <td>109.448096</td>\n",
              "      <td>3.870968</td>\n",
              "      <td>7.85</td>\n",
              "      <td>0.0</td>\n",
              "    </tr>\n",
              "    <tr>\n",
              "      <th>2</th>\n",
              "      <td>108.122431</td>\n",
              "      <td>2.564103</td>\n",
              "      <td>7.90</td>\n",
              "      <td>0.0</td>\n",
              "    </tr>\n",
              "    <tr>\n",
              "      <th>3</th>\n",
              "      <td>108.172131</td>\n",
              "      <td>1.898734</td>\n",
              "      <td>8.05</td>\n",
              "      <td>0.0</td>\n",
              "    </tr>\n",
              "    <tr>\n",
              "      <th>4</th>\n",
              "      <td>NaN</td>\n",
              "      <td>NaN</td>\n",
              "      <td>0.00</td>\n",
              "      <td>0.0</td>\n",
              "    </tr>\n",
              "  </tbody>\n",
              "</table>\n",
              "</div>"
            ],
            "text/plain": [
              "         O_AC        H_L  Close  Volume\n",
              "0  121.330168  16.883117   8.00     0.0\n",
              "1  109.448096   3.870968   7.85     0.0\n",
              "2  108.122431   2.564103   7.90     0.0\n",
              "3  108.172131   1.898734   8.05     0.0\n",
              "4         NaN        NaN   0.00     0.0"
            ]
          },
          "metadata": {
            "tags": []
          },
          "execution_count": 113
        }
      ]
    },
    {
      "metadata": {
        "id": "WEjj7HDp1qaU",
        "colab_type": "code",
        "colab": {}
      },
      "cell_type": "code",
      "source": [
        ""
      ],
      "execution_count": 0,
      "outputs": []
    },
    {
      "metadata": {
        "id": "5lFZaY1qUtLq",
        "colab_type": "code",
        "colab": {}
      },
      "cell_type": "code",
      "source": [
        ""
      ],
      "execution_count": 0,
      "outputs": []
    },
    {
      "metadata": {
        "id": "ahPMRBD8rq2N",
        "colab_type": "code",
        "colab": {
          "base_uri": "https://localhost:8080/",
          "height": 51
        },
        "outputId": "9bf62a36-9939-46fa-9bd2-9b85d09361c3"
      },
      "cell_type": "code",
      "source": [
        "# Split data into train and test\n",
        "train_size = int(len(df) * .9)\n",
        "print (\"Train size: %d\" % train_size)\n",
        "print (\"Test size: %d\" % (len(df) - train_size))\n"
      ],
      "execution_count": 114,
      "outputs": [
        {
          "output_type": "stream",
          "text": [
            "Train size: 5287\n",
            "Test size: 588\n"
          ],
          "name": "stdout"
        }
      ]
    },
    {
      "metadata": {
        "id": "hnful0jXIJco",
        "colab_type": "code",
        "colab": {}
      },
      "cell_type": "code",
      "source": [
        "#Traning and Testing the dataset\n",
        "#train1, test1 = train_test_split(features)\n",
        "#train2, test2 = train_test_split(target)\n",
        "#print(train2, test2)"
      ],
      "execution_count": 0,
      "outputs": []
    },
    {
      "metadata": {
        "id": "Av1Ja8j7sLqL",
        "colab_type": "code",
        "colab": {}
      },
      "cell_type": "code",
      "source": [
        "#train1.shape, test1.shape"
      ],
      "execution_count": 0,
      "outputs": []
    },
    {
      "metadata": {
        "id": "cgt4x5GBYyhg",
        "colab_type": "code",
        "colab": {}
      },
      "cell_type": "code",
      "source": [
        "#train2.shape, test2.shape"
      ],
      "execution_count": 0,
      "outputs": []
    },
    {
      "metadata": {
        "id": "ywJmwXwjAvi3",
        "colab_type": "code",
        "colab": {
          "base_uri": "https://localhost:8080/",
          "height": 374
        },
        "outputId": "1507622e-0876-4438-ccb1-8e6d9b0a4ce3"
      },
      "cell_type": "code",
      "source": [
        "model.summary()"
      ],
      "execution_count": 118,
      "outputs": [
        {
          "output_type": "stream",
          "text": [
            "_________________________________________________________________\n",
            "Layer (type)                 Output Shape              Param #   \n",
            "=================================================================\n",
            "dense_19 (Dense)             (None, None, 100)         500       \n",
            "_________________________________________________________________\n",
            "dropout_16 (Dropout)         (None, None, 100)         0         \n",
            "_________________________________________________________________\n",
            "dense_20 (Dense)             (None, None, 50)          5050      \n",
            "_________________________________________________________________\n",
            "dropout_17 (Dropout)         (None, None, 50)          0         \n",
            "_________________________________________________________________\n",
            "dense_21 (Dense)             (None, None, 25)          1275      \n",
            "_________________________________________________________________\n",
            "dropout_18 (Dropout)         (None, None, 25)          0         \n",
            "_________________________________________________________________\n",
            "dense_22 (Dense)             (None, None, 1)           26        \n",
            "=================================================================\n",
            "Total params: 6,851\n",
            "Trainable params: 6,851\n",
            "Non-trainable params: 0\n",
            "_________________________________________________________________\n"
          ],
          "name": "stdout"
        }
      ]
    },
    {
      "metadata": {
        "id": "iUegkPQBtw_4",
        "colab_type": "code",
        "colab": {}
      },
      "cell_type": "code",
      "source": [
        "# Initializing / Build Neural Network...!-_-\n",
        "    model = Sequential()\n",
        "\n",
        "# Adding the input layer and the first hidden layer...`   !\n",
        "    model.add(Dense(activation = \"relu\", input_dim = 4, units = 100, kernel_initializer = \"uniform\"))\n",
        "\n",
        "#Drouping the network layer\n",
        "    model.add(Dropout(0.2)) \n",
        "  \n",
        "# Adding the second hidden layer.....!  \n",
        "    #model.add(Dense(activation = \"relu\", units = 75, kernel_initializer = \"uniform\"))\n",
        "  \n",
        "#Drouping the network layer\n",
        "    #model.add(Dropout(0.2))  \n",
        "\n",
        "#Drouping the network layer\n",
        "   # model.add(Dropout(0.2))\n",
        "  \n",
        "# Adding the another hidden layer.....!   \n",
        "    #model.add(Dense(activation = \"relu\", units = 100, kernel_initializer = \"uniform\"))\n",
        "  \n",
        "# Adding the another hidden layer.....!   \n",
        "    model.add(Dense(activation = \"relu\", units = 50, kernel_initializer = \"uniform\"))\n",
        "\n",
        "#Drouping the network layer\n",
        "    model.add(Dropout(0.2))\n",
        "  \n",
        "# Adding the another hidden layer.....!   \n",
        "    model.add(Dense(activation = \"relu\", units = 25, kernel_initializer = \"uniform\"))  \n",
        "  \n",
        "#Drouping the network layer\n",
        "    model.add(Dropout(0.2))  \n",
        "  \n",
        "# Adding the output layer...!  \n",
        "    model.add(Dense(1, activation = \"relu\", kernel_initializer = \"uniform\"))  "
      ],
      "execution_count": 0,
      "outputs": []
    },
    {
      "metadata": {
        "id": "HmOniFTpBChP",
        "colab_type": "code",
        "colab": {}
      },
      "cell_type": "code",
      "source": [
        "# Compiling Neural Network...!\n",
        "model.compile(loss = 'mae', \n",
        "             optimizer = Adam(),\n",
        "             metrics = ['accuracy'])"
      ],
      "execution_count": 0,
      "outputs": []
    },
    {
      "metadata": {
        "id": "cbzWYHpDMSwz",
        "colab_type": "code",
        "colab": {}
      },
      "cell_type": "code",
      "source": [
        "#features = ['Open',\t'High',\t'Low',\t'Close']\n",
        "#target = ['Adj Close']"
      ],
      "execution_count": 0,
      "outputs": []
    },
    {
      "metadata": {
        "id": "-5m0JrgYBZWt",
        "colab_type": "code",
        "colab": {
          "base_uri": "https://localhost:8080/",
          "height": 6851
        },
        "outputId": "a27449d7-8f6a-4605-aba8-5e92f52b4be6"
      },
      "cell_type": "code",
      "source": [
        "# Fitting our model...*-* \n",
        "model.fit(features,\n",
        "          target,\n",
        "          batch_size = 128,\n",
        "          epochs = 200,\n",
        "          verbose = 1,\n",
        "          validation_data=(features, target))"
      ],
      "execution_count": 122,
      "outputs": [
        {
          "output_type": "stream",
          "text": [
            "Train on 5874 samples, validate on 5874 samples\n",
            "Epoch 1/200\n",
            "5874/5874 [==============================] - 1s 137us/step - loss: 286.2144 - acc: 0.0797 - val_loss: 69.7707 - val_acc: 0.0798\n",
            "Epoch 2/200\n",
            "5874/5874 [==============================] - 0s 36us/step - loss: 62.6204 - acc: 0.0798 - val_loss: 17.0029 - val_acc: 0.0798\n",
            "Epoch 3/200\n",
            "5874/5874 [==============================] - 0s 34us/step - loss: 57.4145 - acc: 0.0798 - val_loss: 23.6373 - val_acc: 0.0798\n",
            "Epoch 4/200\n",
            "5874/5874 [==============================] - 0s 34us/step - loss: 56.6521 - acc: 0.0798 - val_loss: 19.5888 - val_acc: 0.0798\n",
            "Epoch 5/200\n",
            "5874/5874 [==============================] - 0s 36us/step - loss: 55.9555 - acc: 0.0798 - val_loss: 26.6527 - val_acc: 0.0798\n",
            "Epoch 6/200\n",
            "5874/5874 [==============================] - 0s 35us/step - loss: 56.2290 - acc: 0.0798 - val_loss: 47.2885 - val_acc: 0.0798\n",
            "Epoch 7/200\n",
            "5874/5874 [==============================] - 0s 34us/step - loss: 56.1521 - acc: 0.0798 - val_loss: 24.5720 - val_acc: 0.0798\n",
            "Epoch 8/200\n",
            "5874/5874 [==============================] - 0s 30us/step - loss: 55.3362 - acc: 0.0798 - val_loss: 29.0367 - val_acc: 0.0798\n",
            "Epoch 9/200\n",
            "5874/5874 [==============================] - 0s 29us/step - loss: 54.8233 - acc: 0.0798 - val_loss: 24.6937 - val_acc: 0.0798\n",
            "Epoch 10/200\n",
            "5874/5874 [==============================] - 0s 30us/step - loss: 54.6459 - acc: 0.0798 - val_loss: 17.8132 - val_acc: 0.0798\n",
            "Epoch 11/200\n",
            "5874/5874 [==============================] - 0s 28us/step - loss: 56.1001 - acc: 0.0798 - val_loss: 15.6231 - val_acc: 0.0798\n",
            "Epoch 12/200\n",
            "5874/5874 [==============================] - 0s 28us/step - loss: 53.3550 - acc: 0.0798 - val_loss: 25.6342 - val_acc: 0.0798\n",
            "Epoch 13/200\n",
            "5874/5874 [==============================] - 0s 28us/step - loss: 55.3325 - acc: 0.0798 - val_loss: 36.1523 - val_acc: 0.0798\n",
            "Epoch 14/200\n",
            "5874/5874 [==============================] - 0s 28us/step - loss: 55.0975 - acc: 0.0798 - val_loss: 15.0670 - val_acc: 0.0798\n",
            "Epoch 15/200\n",
            "5874/5874 [==============================] - 0s 28us/step - loss: 53.8822 - acc: 0.0798 - val_loss: 21.1050 - val_acc: 0.0798\n",
            "Epoch 16/200\n",
            "5874/5874 [==============================] - 0s 29us/step - loss: 53.1932 - acc: 0.0798 - val_loss: 25.9722 - val_acc: 0.0798\n",
            "Epoch 17/200\n",
            "5874/5874 [==============================] - 0s 29us/step - loss: 53.8734 - acc: 0.0798 - val_loss: 31.5283 - val_acc: 0.0798\n",
            "Epoch 18/200\n",
            "5874/5874 [==============================] - 0s 28us/step - loss: 54.5026 - acc: 0.0798 - val_loss: 27.0477 - val_acc: 0.0798\n",
            "Epoch 19/200\n",
            "5874/5874 [==============================] - 0s 29us/step - loss: 53.1375 - acc: 0.0798 - val_loss: 12.7915 - val_acc: 0.0798\n",
            "Epoch 20/200\n",
            "5874/5874 [==============================] - 0s 30us/step - loss: 53.0625 - acc: 0.0798 - val_loss: 22.9289 - val_acc: 0.0798\n",
            "Epoch 21/200\n",
            "5874/5874 [==============================] - 0s 28us/step - loss: 54.8843 - acc: 0.0798 - val_loss: 12.6771 - val_acc: 0.0798\n",
            "Epoch 22/200\n",
            "5874/5874 [==============================] - 0s 29us/step - loss: 53.4902 - acc: 0.0798 - val_loss: 15.7012 - val_acc: 0.0798\n",
            "Epoch 23/200\n",
            "5874/5874 [==============================] - 0s 30us/step - loss: 53.3515 - acc: 0.0798 - val_loss: 13.3332 - val_acc: 0.0798\n",
            "Epoch 24/200\n",
            "5874/5874 [==============================] - 0s 29us/step - loss: 53.4890 - acc: 0.0798 - val_loss: 27.2632 - val_acc: 0.0798\n",
            "Epoch 25/200\n",
            "5874/5874 [==============================] - 0s 29us/step - loss: 54.9132 - acc: 0.0798 - val_loss: 12.3124 - val_acc: 0.0798\n",
            "Epoch 26/200\n",
            "5874/5874 [==============================] - 0s 31us/step - loss: 54.4010 - acc: 0.0798 - val_loss: 36.5714 - val_acc: 0.0798\n",
            "Epoch 27/200\n",
            "5874/5874 [==============================] - 0s 29us/step - loss: 52.9035 - acc: 0.0798 - val_loss: 18.7906 - val_acc: 0.0798\n",
            "Epoch 28/200\n",
            "5874/5874 [==============================] - 0s 29us/step - loss: 54.5038 - acc: 0.0798 - val_loss: 17.9804 - val_acc: 0.0798\n",
            "Epoch 29/200\n",
            "5874/5874 [==============================] - 0s 29us/step - loss: 54.5204 - acc: 0.0798 - val_loss: 15.0145 - val_acc: 0.0798\n",
            "Epoch 30/200\n",
            "5874/5874 [==============================] - 0s 29us/step - loss: 53.6116 - acc: 0.0798 - val_loss: 14.6214 - val_acc: 0.0798\n",
            "Epoch 31/200\n",
            "5874/5874 [==============================] - 0s 29us/step - loss: 52.9153 - acc: 0.0798 - val_loss: 18.6267 - val_acc: 0.0798\n",
            "Epoch 32/200\n",
            "5874/5874 [==============================] - 0s 29us/step - loss: 53.0144 - acc: 0.0798 - val_loss: 14.1235 - val_acc: 0.0798\n",
            "Epoch 33/200\n",
            "5874/5874 [==============================] - 0s 29us/step - loss: 52.1600 - acc: 0.0798 - val_loss: 19.1831 - val_acc: 0.0798\n",
            "Epoch 34/200\n",
            "5874/5874 [==============================] - 0s 29us/step - loss: 51.6180 - acc: 0.0798 - val_loss: 12.1229 - val_acc: 0.0798\n",
            "Epoch 35/200\n",
            "5874/5874 [==============================] - 0s 28us/step - loss: 53.2298 - acc: 0.0798 - val_loss: 13.2057 - val_acc: 0.0798\n",
            "Epoch 36/200\n",
            "5874/5874 [==============================] - 0s 29us/step - loss: 55.6423 - acc: 0.0798 - val_loss: 24.5420 - val_acc: 0.0798\n",
            "Epoch 37/200\n",
            "5874/5874 [==============================] - 0s 30us/step - loss: 53.9362 - acc: 0.0798 - val_loss: 17.1122 - val_acc: 0.0798\n",
            "Epoch 38/200\n",
            "5874/5874 [==============================] - 0s 29us/step - loss: 54.9489 - acc: 0.0798 - val_loss: 18.7220 - val_acc: 0.0798\n",
            "Epoch 39/200\n",
            "5874/5874 [==============================] - 0s 29us/step - loss: 53.2420 - acc: 0.0798 - val_loss: 24.4012 - val_acc: 0.0798\n",
            "Epoch 40/200\n",
            "5874/5874 [==============================] - 0s 29us/step - loss: 52.5277 - acc: 0.0798 - val_loss: 14.7785 - val_acc: 0.0798\n",
            "Epoch 41/200\n",
            "5874/5874 [==============================] - 0s 30us/step - loss: 53.6489 - acc: 0.0798 - val_loss: 31.3317 - val_acc: 0.0798\n",
            "Epoch 42/200\n",
            "5874/5874 [==============================] - 0s 29us/step - loss: 55.1493 - acc: 0.0798 - val_loss: 14.1099 - val_acc: 0.0798\n",
            "Epoch 43/200\n",
            "5874/5874 [==============================] - 0s 30us/step - loss: 54.0476 - acc: 0.0798 - val_loss: 25.3823 - val_acc: 0.0798\n",
            "Epoch 44/200\n",
            "5874/5874 [==============================] - 0s 29us/step - loss: 54.3110 - acc: 0.0798 - val_loss: 21.6630 - val_acc: 0.0798\n",
            "Epoch 45/200\n",
            "5874/5874 [==============================] - 0s 29us/step - loss: 52.3509 - acc: 0.0798 - val_loss: 21.4942 - val_acc: 0.0798\n",
            "Epoch 46/200\n",
            "5874/5874 [==============================] - 0s 29us/step - loss: 51.3775 - acc: 0.0798 - val_loss: 17.5027 - val_acc: 0.0798\n",
            "Epoch 47/200\n",
            "5874/5874 [==============================] - 0s 30us/step - loss: 52.7598 - acc: 0.0798 - val_loss: 11.9916 - val_acc: 0.0798\n",
            "Epoch 48/200\n",
            "5874/5874 [==============================] - 0s 30us/step - loss: 52.0261 - acc: 0.0798 - val_loss: 16.9072 - val_acc: 0.0798\n",
            "Epoch 49/200\n",
            "5874/5874 [==============================] - 0s 30us/step - loss: 53.2870 - acc: 0.0798 - val_loss: 16.5612 - val_acc: 0.0798\n",
            "Epoch 50/200\n",
            "5874/5874 [==============================] - 0s 30us/step - loss: 53.6297 - acc: 0.0798 - val_loss: 14.3565 - val_acc: 0.0798\n",
            "Epoch 51/200\n",
            "5874/5874 [==============================] - 0s 30us/step - loss: 52.8066 - acc: 0.0798 - val_loss: 13.7625 - val_acc: 0.0798\n",
            "Epoch 52/200\n",
            "5874/5874 [==============================] - 0s 30us/step - loss: 51.4644 - acc: 0.0798 - val_loss: 10.7572 - val_acc: 0.0798\n",
            "Epoch 53/200\n",
            "5874/5874 [==============================] - 0s 29us/step - loss: 53.5935 - acc: 0.0798 - val_loss: 14.7092 - val_acc: 0.0798\n",
            "Epoch 54/200\n",
            "5874/5874 [==============================] - 0s 30us/step - loss: 52.3049 - acc: 0.0798 - val_loss: 17.3748 - val_acc: 0.0798\n",
            "Epoch 55/200\n",
            "5874/5874 [==============================] - 0s 30us/step - loss: 53.6087 - acc: 0.0798 - val_loss: 10.0545 - val_acc: 0.0798\n",
            "Epoch 56/200\n",
            "5874/5874 [==============================] - 0s 29us/step - loss: 52.2683 - acc: 0.0798 - val_loss: 22.4439 - val_acc: 0.0798\n",
            "Epoch 57/200\n",
            "5874/5874 [==============================] - 0s 29us/step - loss: 53.4460 - acc: 0.0798 - val_loss: 41.9131 - val_acc: 0.0798\n",
            "Epoch 58/200\n",
            "5874/5874 [==============================] - 0s 29us/step - loss: 54.9814 - acc: 0.0798 - val_loss: 16.2986 - val_acc: 0.0798\n",
            "Epoch 59/200\n",
            "5874/5874 [==============================] - 0s 29us/step - loss: 53.4457 - acc: 0.0798 - val_loss: 23.2580 - val_acc: 0.0798\n",
            "Epoch 60/200\n",
            "5874/5874 [==============================] - 0s 29us/step - loss: 51.0737 - acc: 0.0798 - val_loss: 9.3567 - val_acc: 0.0798\n",
            "Epoch 61/200\n",
            "5874/5874 [==============================] - 0s 30us/step - loss: 53.7050 - acc: 0.0798 - val_loss: 20.6511 - val_acc: 0.0798\n",
            "Epoch 62/200\n",
            "5874/5874 [==============================] - 0s 29us/step - loss: 52.6045 - acc: 0.0798 - val_loss: 32.2425 - val_acc: 0.0798\n",
            "Epoch 63/200\n",
            "5874/5874 [==============================] - 0s 29us/step - loss: 51.7859 - acc: 0.0798 - val_loss: 17.5752 - val_acc: 0.0798\n",
            "Epoch 64/200\n",
            "5874/5874 [==============================] - 0s 30us/step - loss: 52.0479 - acc: 0.0798 - val_loss: 26.0430 - val_acc: 0.0798\n",
            "Epoch 65/200\n",
            "5874/5874 [==============================] - 0s 30us/step - loss: 51.8345 - acc: 0.0798 - val_loss: 30.1642 - val_acc: 0.0798\n",
            "Epoch 66/200\n",
            "5874/5874 [==============================] - 0s 29us/step - loss: 52.3243 - acc: 0.0798 - val_loss: 23.3725 - val_acc: 0.0798\n",
            "Epoch 67/200\n",
            "5874/5874 [==============================] - 0s 29us/step - loss: 53.8362 - acc: 0.0798 - val_loss: 28.1707 - val_acc: 0.0798\n",
            "Epoch 68/200\n",
            "5874/5874 [==============================] - 0s 28us/step - loss: 53.1537 - acc: 0.0798 - val_loss: 30.6469 - val_acc: 0.0798\n",
            "Epoch 69/200\n",
            "5874/5874 [==============================] - 0s 28us/step - loss: 52.2787 - acc: 0.0798 - val_loss: 19.9798 - val_acc: 0.0798\n",
            "Epoch 70/200\n",
            "5874/5874 [==============================] - 0s 28us/step - loss: 51.7796 - acc: 0.0798 - val_loss: 14.9437 - val_acc: 0.0798\n",
            "Epoch 71/200\n",
            "5874/5874 [==============================] - 0s 29us/step - loss: 51.9661 - acc: 0.0798 - val_loss: 17.3447 - val_acc: 0.0798\n",
            "Epoch 72/200\n",
            "5874/5874 [==============================] - 0s 30us/step - loss: 51.9849 - acc: 0.0798 - val_loss: 28.4310 - val_acc: 0.0798\n",
            "Epoch 73/200\n",
            "5874/5874 [==============================] - 0s 28us/step - loss: 53.2073 - acc: 0.0798 - val_loss: 9.7661 - val_acc: 0.0798\n",
            "Epoch 74/200\n",
            "5874/5874 [==============================] - 0s 29us/step - loss: 52.1094 - acc: 0.0798 - val_loss: 25.1891 - val_acc: 0.0798\n",
            "Epoch 75/200\n",
            "5874/5874 [==============================] - 0s 28us/step - loss: 53.2291 - acc: 0.0798 - val_loss: 9.2409 - val_acc: 0.0798\n",
            "Epoch 76/200\n",
            "5874/5874 [==============================] - 0s 30us/step - loss: 52.4723 - acc: 0.0798 - val_loss: 15.1603 - val_acc: 0.0798\n",
            "Epoch 77/200\n",
            "5874/5874 [==============================] - 0s 29us/step - loss: 50.8863 - acc: 0.0798 - val_loss: 15.5703 - val_acc: 0.0798\n",
            "Epoch 78/200\n",
            "5874/5874 [==============================] - 0s 29us/step - loss: 52.7687 - acc: 0.0798 - val_loss: 16.4462 - val_acc: 0.0798\n",
            "Epoch 79/200\n",
            "5874/5874 [==============================] - 0s 29us/step - loss: 52.1717 - acc: 0.0798 - val_loss: 12.9912 - val_acc: 0.0798\n",
            "Epoch 80/200\n",
            "5874/5874 [==============================] - 0s 30us/step - loss: 50.2263 - acc: 0.0798 - val_loss: 12.7755 - val_acc: 0.0798\n",
            "Epoch 81/200\n",
            "5874/5874 [==============================] - 0s 30us/step - loss: 50.9855 - acc: 0.0798 - val_loss: 31.8405 - val_acc: 0.0798\n",
            "Epoch 82/200\n",
            "5874/5874 [==============================] - 0s 30us/step - loss: 52.2778 - acc: 0.0798 - val_loss: 19.5297 - val_acc: 0.0798\n",
            "Epoch 83/200\n",
            "5874/5874 [==============================] - 0s 29us/step - loss: 51.9163 - acc: 0.0798 - val_loss: 23.8846 - val_acc: 0.0798\n",
            "Epoch 84/200\n",
            "5874/5874 [==============================] - 0s 31us/step - loss: 50.5438 - acc: 0.0798 - val_loss: 13.8761 - val_acc: 0.0798\n",
            "Epoch 85/200\n",
            "5874/5874 [==============================] - 0s 29us/step - loss: 53.6712 - acc: 0.0798 - val_loss: 23.6206 - val_acc: 0.0798\n",
            "Epoch 86/200\n",
            "5874/5874 [==============================] - 0s 29us/step - loss: 52.5990 - acc: 0.0798 - val_loss: 23.4214 - val_acc: 0.0798\n",
            "Epoch 87/200\n",
            "5874/5874 [==============================] - 0s 30us/step - loss: 51.2195 - acc: 0.0798 - val_loss: 14.7102 - val_acc: 0.0798\n",
            "Epoch 88/200\n",
            "5874/5874 [==============================] - 0s 30us/step - loss: 50.5076 - acc: 0.0798 - val_loss: 13.7386 - val_acc: 0.0798\n",
            "Epoch 89/200\n",
            "5874/5874 [==============================] - 0s 30us/step - loss: 54.1743 - acc: 0.0798 - val_loss: 20.3672 - val_acc: 0.0798\n",
            "Epoch 90/200\n",
            "5874/5874 [==============================] - 0s 29us/step - loss: 52.5063 - acc: 0.0798 - val_loss: 8.6595 - val_acc: 0.0798\n",
            "Epoch 91/200\n",
            "5874/5874 [==============================] - 0s 30us/step - loss: 51.4380 - acc: 0.0798 - val_loss: 21.7943 - val_acc: 0.0798\n",
            "Epoch 92/200\n",
            "5874/5874 [==============================] - 0s 29us/step - loss: 50.5909 - acc: 0.0798 - val_loss: 16.7327 - val_acc: 0.0798\n",
            "Epoch 93/200\n",
            "5874/5874 [==============================] - 0s 29us/step - loss: 51.3363 - acc: 0.0689 - val_loss: 26.0749 - val_acc: 0.0798\n",
            "Epoch 94/200\n",
            "5874/5874 [==============================] - 0s 29us/step - loss: 51.8834 - acc: 0.0679 - val_loss: 19.4878 - val_acc: 0.0798\n",
            "Epoch 95/200\n",
            "5874/5874 [==============================] - 0s 29us/step - loss: 53.0614 - acc: 0.0642 - val_loss: 29.5255 - val_acc: 0.0798\n",
            "Epoch 96/200\n",
            "5874/5874 [==============================] - 0s 29us/step - loss: 52.8882 - acc: 0.0604 - val_loss: 10.9027 - val_acc: 0.0798\n",
            "Epoch 97/200\n",
            "5874/5874 [==============================] - 0s 29us/step - loss: 50.2526 - acc: 0.0616 - val_loss: 12.2240 - val_acc: 0.0798\n",
            "Epoch 98/200\n",
            "5874/5874 [==============================] - 0s 30us/step - loss: 50.3807 - acc: 0.0618 - val_loss: 20.3561 - val_acc: 0.0798\n",
            "Epoch 99/200\n",
            "5874/5874 [==============================] - 0s 30us/step - loss: 51.5619 - acc: 0.0608 - val_loss: 10.2951 - val_acc: 0.0798\n",
            "Epoch 100/200\n",
            "5874/5874 [==============================] - 0s 30us/step - loss: 53.0375 - acc: 0.0604 - val_loss: 15.1870 - val_acc: 0.0798\n",
            "Epoch 101/200\n",
            "5874/5874 [==============================] - 0s 29us/step - loss: 51.4711 - acc: 0.0591 - val_loss: 29.3826 - val_acc: 0.0798\n",
            "Epoch 102/200\n",
            "5874/5874 [==============================] - 0s 29us/step - loss: 51.8471 - acc: 0.0599 - val_loss: 27.7164 - val_acc: 0.0798\n",
            "Epoch 103/200\n",
            "5874/5874 [==============================] - 0s 29us/step - loss: 51.7128 - acc: 0.0626 - val_loss: 18.5604 - val_acc: 0.0798\n",
            "Epoch 104/200\n",
            "5874/5874 [==============================] - 0s 29us/step - loss: 52.4261 - acc: 0.0604 - val_loss: 19.7831 - val_acc: 0.0798\n",
            "Epoch 105/200\n",
            "5874/5874 [==============================] - 0s 29us/step - loss: 50.3039 - acc: 0.0632 - val_loss: 18.6654 - val_acc: 0.0798\n",
            "Epoch 106/200\n",
            "5874/5874 [==============================] - 0s 29us/step - loss: 51.7328 - acc: 0.0644 - val_loss: 15.1629 - val_acc: 0.0798\n",
            "Epoch 107/200\n",
            "5874/5874 [==============================] - 0s 29us/step - loss: 51.4048 - acc: 0.0608 - val_loss: 15.8786 - val_acc: 0.0798\n",
            "Epoch 108/200\n",
            "5874/5874 [==============================] - 0s 29us/step - loss: 51.3131 - acc: 0.0615 - val_loss: 24.2645 - val_acc: 0.0798\n",
            "Epoch 109/200\n",
            "5874/5874 [==============================] - 0s 30us/step - loss: 52.4037 - acc: 0.0603 - val_loss: 11.8536 - val_acc: 0.0798\n",
            "Epoch 110/200\n",
            "5874/5874 [==============================] - 0s 30us/step - loss: 52.6736 - acc: 0.0630 - val_loss: 11.1321 - val_acc: 0.0798\n",
            "Epoch 111/200\n",
            "5874/5874 [==============================] - 0s 29us/step - loss: 49.0930 - acc: 0.0601 - val_loss: 8.9933 - val_acc: 0.0798\n",
            "Epoch 112/200\n",
            "5874/5874 [==============================] - 0s 29us/step - loss: 51.3840 - acc: 0.0601 - val_loss: 14.8564 - val_acc: 0.0798\n",
            "Epoch 113/200\n",
            "5874/5874 [==============================] - 0s 29us/step - loss: 50.6800 - acc: 0.0604 - val_loss: 37.1124 - val_acc: 0.0798\n",
            "Epoch 114/200\n",
            "5874/5874 [==============================] - 0s 28us/step - loss: 53.4993 - acc: 0.0618 - val_loss: 11.3896 - val_acc: 0.0798\n",
            "Epoch 115/200\n",
            "5874/5874 [==============================] - 0s 31us/step - loss: 51.8714 - acc: 0.0611 - val_loss: 34.9306 - val_acc: 0.0798\n",
            "Epoch 116/200\n",
            "5874/5874 [==============================] - 0s 28us/step - loss: 50.6989 - acc: 0.0613 - val_loss: 11.6230 - val_acc: 0.0798\n",
            "Epoch 117/200\n",
            "5874/5874 [==============================] - 0s 29us/step - loss: 51.5305 - acc: 0.0613 - val_loss: 19.4236 - val_acc: 0.0798\n",
            "Epoch 118/200\n",
            "5874/5874 [==============================] - 0s 30us/step - loss: 52.3027 - acc: 0.0621 - val_loss: 11.7728 - val_acc: 0.0798\n",
            "Epoch 119/200\n",
            "5874/5874 [==============================] - 0s 29us/step - loss: 52.0995 - acc: 0.0598 - val_loss: 22.3290 - val_acc: 0.0798\n",
            "Epoch 120/200\n",
            "5874/5874 [==============================] - 0s 29us/step - loss: 50.0737 - acc: 0.0633 - val_loss: 11.6416 - val_acc: 0.0798\n",
            "Epoch 121/200\n",
            "5874/5874 [==============================] - 0s 29us/step - loss: 50.2059 - acc: 0.0601 - val_loss: 12.0594 - val_acc: 0.0798\n",
            "Epoch 122/200\n",
            "5874/5874 [==============================] - 0s 30us/step - loss: 52.3810 - acc: 0.0611 - val_loss: 12.4821 - val_acc: 0.0798\n",
            "Epoch 123/200\n",
            "5874/5874 [==============================] - 0s 29us/step - loss: 51.4923 - acc: 0.0586 - val_loss: 8.1508 - val_acc: 0.0798\n",
            "Epoch 124/200\n",
            "5874/5874 [==============================] - 0s 29us/step - loss: 52.5798 - acc: 0.0613 - val_loss: 10.8204 - val_acc: 0.0798\n",
            "Epoch 125/200\n",
            "5874/5874 [==============================] - 0s 29us/step - loss: 51.1065 - acc: 0.0609 - val_loss: 17.1385 - val_acc: 0.0798\n",
            "Epoch 126/200\n",
            "5874/5874 [==============================] - 0s 29us/step - loss: 50.4361 - acc: 0.0606 - val_loss: 16.0160 - val_acc: 0.0798\n",
            "Epoch 127/200\n",
            "5874/5874 [==============================] - 0s 30us/step - loss: 50.1775 - acc: 0.0599 - val_loss: 14.9035 - val_acc: 0.0798\n",
            "Epoch 128/200\n",
            "5874/5874 [==============================] - 0s 29us/step - loss: 51.4301 - acc: 0.0567 - val_loss: 17.4777 - val_acc: 0.0798\n",
            "Epoch 129/200\n",
            "5874/5874 [==============================] - 0s 30us/step - loss: 51.6912 - acc: 0.0626 - val_loss: 10.2445 - val_acc: 0.0798\n",
            "Epoch 130/200\n",
            "5874/5874 [==============================] - 0s 31us/step - loss: 50.1910 - acc: 0.0581 - val_loss: 18.1787 - val_acc: 0.0798\n",
            "Epoch 131/200\n",
            "5874/5874 [==============================] - 0s 29us/step - loss: 53.0114 - acc: 0.0626 - val_loss: 22.8749 - val_acc: 0.0798\n",
            "Epoch 132/200\n",
            "5874/5874 [==============================] - 0s 29us/step - loss: 51.4370 - acc: 0.0598 - val_loss: 25.5935 - val_acc: 0.0798\n",
            "Epoch 133/200\n",
            "5874/5874 [==============================] - 0s 29us/step - loss: 50.4449 - acc: 0.0635 - val_loss: 19.4480 - val_acc: 0.0798\n",
            "Epoch 134/200\n",
            "5874/5874 [==============================] - 0s 29us/step - loss: 51.5240 - acc: 0.0628 - val_loss: 22.3992 - val_acc: 0.0798\n",
            "Epoch 135/200\n",
            "5874/5874 [==============================] - 0s 30us/step - loss: 51.1866 - acc: 0.0621 - val_loss: 18.7197 - val_acc: 0.0798\n",
            "Epoch 136/200\n",
            "5874/5874 [==============================] - 0s 29us/step - loss: 50.0169 - acc: 0.0592 - val_loss: 8.7076 - val_acc: 0.0798\n",
            "Epoch 137/200\n",
            "5874/5874 [==============================] - 0s 28us/step - loss: 48.7192 - acc: 0.0613 - val_loss: 14.2285 - val_acc: 0.0798\n",
            "Epoch 138/200\n",
            "5874/5874 [==============================] - 0s 28us/step - loss: 51.4415 - acc: 0.0606 - val_loss: 13.6541 - val_acc: 0.0798\n",
            "Epoch 139/200\n",
            "5874/5874 [==============================] - 0s 28us/step - loss: 50.6238 - acc: 0.0603 - val_loss: 28.1402 - val_acc: 0.0798\n",
            "Epoch 140/200\n",
            "5874/5874 [==============================] - 0s 29us/step - loss: 49.0315 - acc: 0.0621 - val_loss: 23.1517 - val_acc: 0.0798\n",
            "Epoch 141/200\n",
            "5874/5874 [==============================] - 0s 31us/step - loss: 50.2909 - acc: 0.0601 - val_loss: 27.1554 - val_acc: 0.0798\n",
            "Epoch 142/200\n",
            "5874/5874 [==============================] - 0s 30us/step - loss: 51.6647 - acc: 0.0628 - val_loss: 25.2576 - val_acc: 0.0798\n",
            "Epoch 143/200\n",
            "5874/5874 [==============================] - 0s 31us/step - loss: 50.5942 - acc: 0.0621 - val_loss: 18.8921 - val_acc: 0.0798\n",
            "Epoch 144/200\n",
            "5874/5874 [==============================] - 0s 29us/step - loss: 51.5583 - acc: 0.0598 - val_loss: 7.8483 - val_acc: 0.0798\n",
            "Epoch 145/200\n",
            "5874/5874 [==============================] - 0s 29us/step - loss: 50.0387 - acc: 0.0611 - val_loss: 29.8520 - val_acc: 0.0798\n",
            "Epoch 146/200\n",
            "5874/5874 [==============================] - 0s 30us/step - loss: 50.6929 - acc: 0.0618 - val_loss: 11.0119 - val_acc: 0.0798\n",
            "Epoch 147/200\n",
            "5874/5874 [==============================] - 0s 29us/step - loss: 48.2109 - acc: 0.0611 - val_loss: 13.9480 - val_acc: 0.0798\n",
            "Epoch 148/200\n",
            "5874/5874 [==============================] - 0s 29us/step - loss: 49.8818 - acc: 0.0615 - val_loss: 19.5411 - val_acc: 0.0798\n",
            "Epoch 149/200\n",
            "5874/5874 [==============================] - 0s 29us/step - loss: 49.0496 - acc: 0.0613 - val_loss: 19.1613 - val_acc: 0.0798\n",
            "Epoch 150/200\n",
            "5874/5874 [==============================] - 0s 29us/step - loss: 50.7402 - acc: 0.0621 - val_loss: 10.4937 - val_acc: 0.0798\n",
            "Epoch 151/200\n",
            "5874/5874 [==============================] - 0s 29us/step - loss: 48.4755 - acc: 0.0628 - val_loss: 20.6516 - val_acc: 0.0798\n",
            "Epoch 152/200\n",
            "5874/5874 [==============================] - 0s 31us/step - loss: 49.2800 - acc: 0.0606 - val_loss: 34.4614 - val_acc: 0.0798\n",
            "Epoch 153/200\n",
            "5874/5874 [==============================] - 0s 29us/step - loss: 50.8262 - acc: 0.0609 - val_loss: 26.4156 - val_acc: 0.0798\n",
            "Epoch 154/200\n",
            "5874/5874 [==============================] - 0s 29us/step - loss: 49.4830 - acc: 0.0601 - val_loss: 25.8713 - val_acc: 0.0798\n",
            "Epoch 155/200\n",
            "5874/5874 [==============================] - 0s 29us/step - loss: 50.2836 - acc: 0.0589 - val_loss: 25.4176 - val_acc: 0.0798\n",
            "Epoch 156/200\n",
            "5874/5874 [==============================] - 0s 29us/step - loss: 48.0153 - acc: 0.0640 - val_loss: 14.6815 - val_acc: 0.0798\n",
            "Epoch 157/200\n",
            "5874/5874 [==============================] - 0s 31us/step - loss: 49.7873 - acc: 0.0584 - val_loss: 34.5710 - val_acc: 0.0798\n",
            "Epoch 158/200\n",
            "5874/5874 [==============================] - 0s 29us/step - loss: 50.0582 - acc: 0.0598 - val_loss: 24.6867 - val_acc: 0.0798\n",
            "Epoch 159/200\n",
            "5874/5874 [==============================] - 0s 30us/step - loss: 49.0408 - acc: 0.0615 - val_loss: 24.3280 - val_acc: 0.0798\n",
            "Epoch 160/200\n",
            "5874/5874 [==============================] - 0s 28us/step - loss: 49.1264 - acc: 0.0616 - val_loss: 35.7819 - val_acc: 0.0798\n",
            "Epoch 161/200\n",
            "5874/5874 [==============================] - 0s 29us/step - loss: 48.5741 - acc: 0.0611 - val_loss: 27.4120 - val_acc: 0.0798\n",
            "Epoch 162/200\n",
            "5874/5874 [==============================] - 0s 30us/step - loss: 48.8994 - acc: 0.0599 - val_loss: 42.1603 - val_acc: 0.0798\n",
            "Epoch 163/200\n",
            "5874/5874 [==============================] - 0s 30us/step - loss: 49.1067 - acc: 0.0645 - val_loss: 20.2072 - val_acc: 0.0798\n",
            "Epoch 164/200\n",
            "5874/5874 [==============================] - 0s 30us/step - loss: 50.0842 - acc: 0.0623 - val_loss: 48.3978 - val_acc: 0.0798\n",
            "Epoch 165/200\n",
            "5874/5874 [==============================] - 0s 29us/step - loss: 49.7628 - acc: 0.0613 - val_loss: 18.9342 - val_acc: 0.0798\n",
            "Epoch 166/200\n",
            "5874/5874 [==============================] - 0s 28us/step - loss: 47.6163 - acc: 0.0618 - val_loss: 31.6624 - val_acc: 0.0798\n",
            "Epoch 167/200\n",
            "5874/5874 [==============================] - 0s 29us/step - loss: 47.5807 - acc: 0.0633 - val_loss: 24.8986 - val_acc: 0.0798\n",
            "Epoch 168/200\n",
            "5874/5874 [==============================] - 0s 29us/step - loss: 46.9082 - acc: 0.0620 - val_loss: 17.0643 - val_acc: 0.0798\n",
            "Epoch 169/200\n",
            "5874/5874 [==============================] - 0s 30us/step - loss: 47.9373 - acc: 0.0606 - val_loss: 10.5627 - val_acc: 0.0798\n",
            "Epoch 170/200\n",
            "5874/5874 [==============================] - 0s 30us/step - loss: 49.2009 - acc: 0.0620 - val_loss: 16.0782 - val_acc: 0.0798\n",
            "Epoch 171/200\n",
            "5874/5874 [==============================] - 0s 29us/step - loss: 48.5118 - acc: 0.0611 - val_loss: 25.7025 - val_acc: 0.0798\n",
            "Epoch 172/200\n",
            "5874/5874 [==============================] - 0s 30us/step - loss: 48.2633 - acc: 0.0598 - val_loss: 18.9191 - val_acc: 0.0798\n",
            "Epoch 173/200\n",
            "5874/5874 [==============================] - 0s 29us/step - loss: 47.6355 - acc: 0.0633 - val_loss: 23.4909 - val_acc: 0.0798\n",
            "Epoch 174/200\n",
            "5874/5874 [==============================] - 0s 29us/step - loss: 47.7232 - acc: 0.0625 - val_loss: 23.7790 - val_acc: 0.0798\n",
            "Epoch 175/200\n",
            "5874/5874 [==============================] - 0s 30us/step - loss: 50.4959 - acc: 0.0601 - val_loss: 20.8284 - val_acc: 0.0798\n",
            "Epoch 176/200\n",
            "5874/5874 [==============================] - 0s 29us/step - loss: 47.5244 - acc: 0.0630 - val_loss: 29.3993 - val_acc: 0.0798\n",
            "Epoch 177/200\n",
            "5874/5874 [==============================] - 0s 30us/step - loss: 48.0778 - acc: 0.0637 - val_loss: 33.0168 - val_acc: 0.0798\n",
            "Epoch 178/200\n",
            "5874/5874 [==============================] - 0s 29us/step - loss: 47.6410 - acc: 0.0625 - val_loss: 5.9081 - val_acc: 0.0798\n",
            "Epoch 179/200\n",
            "5874/5874 [==============================] - 0s 29us/step - loss: 48.8385 - acc: 0.0633 - val_loss: 33.8495 - val_acc: 0.0798\n",
            "Epoch 180/200\n",
            "5874/5874 [==============================] - 0s 30us/step - loss: 48.2599 - acc: 0.0630 - val_loss: 45.3076 - val_acc: 0.0798\n",
            "Epoch 181/200\n",
            "5874/5874 [==============================] - 0s 30us/step - loss: 47.6575 - acc: 0.0603 - val_loss: 30.5398 - val_acc: 0.0798\n",
            "Epoch 182/200\n",
            "5874/5874 [==============================] - 0s 30us/step - loss: 49.3603 - acc: 0.0603 - val_loss: 21.3230 - val_acc: 0.0798\n",
            "Epoch 183/200\n",
            "5874/5874 [==============================] - 0s 30us/step - loss: 48.6629 - acc: 0.0620 - val_loss: 18.0648 - val_acc: 0.0798\n",
            "Epoch 184/200\n",
            "5874/5874 [==============================] - 0s 30us/step - loss: 48.1828 - acc: 0.0608 - val_loss: 24.2251 - val_acc: 0.0798\n",
            "Epoch 185/200\n",
            "5874/5874 [==============================] - 0s 29us/step - loss: 47.6351 - acc: 0.0615 - val_loss: 35.5026 - val_acc: 0.0798\n",
            "Epoch 186/200\n",
            "5874/5874 [==============================] - 0s 30us/step - loss: 49.2069 - acc: 0.0625 - val_loss: 45.5637 - val_acc: 0.0798\n",
            "Epoch 187/200\n",
            "5874/5874 [==============================] - 0s 29us/step - loss: 47.6148 - acc: 0.0618 - val_loss: 34.9204 - val_acc: 0.0798\n",
            "Epoch 188/200\n",
            "5874/5874 [==============================] - 0s 30us/step - loss: 48.9743 - acc: 0.0647 - val_loss: 27.8314 - val_acc: 0.0798\n",
            "Epoch 189/200\n",
            "5874/5874 [==============================] - 0s 29us/step - loss: 48.1448 - acc: 0.0611 - val_loss: 35.0880 - val_acc: 0.0798\n",
            "Epoch 190/200\n",
            "5874/5874 [==============================] - 0s 29us/step - loss: 47.6522 - acc: 0.0618 - val_loss: 32.5054 - val_acc: 0.0798\n",
            "Epoch 191/200\n",
            "5874/5874 [==============================] - 0s 28us/step - loss: 47.3569 - acc: 0.0626 - val_loss: 26.0567 - val_acc: 0.0798\n",
            "Epoch 192/200\n",
            "5874/5874 [==============================] - 0s 29us/step - loss: 47.1618 - acc: 0.0618 - val_loss: 28.4129 - val_acc: 0.0798\n",
            "Epoch 193/200\n",
            "5874/5874 [==============================] - 0s 28us/step - loss: 47.4796 - acc: 0.0609 - val_loss: 44.6770 - val_acc: 0.0798\n",
            "Epoch 194/200\n",
            "5874/5874 [==============================] - 0s 28us/step - loss: 48.1306 - acc: 0.0649 - val_loss: 30.5591 - val_acc: 0.0798\n",
            "Epoch 195/200\n",
            "5874/5874 [==============================] - 0s 28us/step - loss: 47.4133 - acc: 0.0632 - val_loss: 24.2988 - val_acc: 0.0798\n",
            "Epoch 196/200\n",
            "5874/5874 [==============================] - 0s 28us/step - loss: 47.5401 - acc: 0.0592 - val_loss: 28.3588 - val_acc: 0.0798\n",
            "Epoch 197/200\n",
            "5874/5874 [==============================] - 0s 30us/step - loss: 46.9442 - acc: 0.0625 - val_loss: 23.4978 - val_acc: 0.0798\n",
            "Epoch 198/200\n",
            "5874/5874 [==============================] - 0s 29us/step - loss: 48.9538 - acc: 0.0615 - val_loss: 21.8032 - val_acc: 0.0798\n",
            "Epoch 199/200\n",
            "5874/5874 [==============================] - 0s 29us/step - loss: 47.6989 - acc: 0.0603 - val_loss: 38.5917 - val_acc: 0.0798\n",
            "Epoch 200/200\n",
            "5874/5874 [==============================] - 0s 29us/step - loss: 46.7310 - acc: 0.0616 - val_loss: 26.4300 - val_acc: 0.0798\n"
          ],
          "name": "stdout"
        },
        {
          "output_type": "execute_result",
          "data": {
            "text/plain": [
              "<keras.callbacks.History at 0x7f388b52b0f0>"
            ]
          },
          "metadata": {
            "tags": []
          },
          "execution_count": 122
        }
      ]
    },
    {
      "metadata": {
        "id": "t8uVmFH3B1en",
        "colab_type": "code",
        "colab": {
          "base_uri": "https://localhost:8080/",
          "height": 68
        },
        "outputId": "80867cbf-167d-47ef-9f6f-6a62a74af603"
      },
      "cell_type": "code",
      "source": [
        "#Predecting the data....!\n",
        "actual = target[len(target)-1:len(target)]\n",
        "print(\"ACTUAL YESTERDAY'S VALUE : \"+str(actual))\n",
        "#print(actual)\n",
        "pre=model.predict(f)\n",
        "print(\"PREDICTED YESTERDAY'S VALUE : \"+str(pre[0])) \n",
        "#print(pre)\n",
        "\n"
      ],
      "execution_count": 123,
      "outputs": [
        {
          "output_type": "stream",
          "text": [
            "ACTUAL YESTERDAY'S VALUE :       Adj Close\n",
            "5873     2115.0\n",
            "PREDICTED YESTERDAY'S VALUE : [1951.4506]\n"
          ],
          "name": "stdout"
        }
      ]
    },
    {
      "metadata": {
        "id": "lAMTySXKLSPw",
        "colab_type": "code",
        "colab": {
          "base_uri": "https://localhost:8080/",
          "height": 85
        },
        "outputId": "58319a18-719c-418c-c0c4-08abdc178d45"
      },
      "cell_type": "code",
      "source": [
        "diff=(pre[0]-actual)/actual\n",
        "#print(diff)\n",
        "pct=diff*100 \n",
        "#if (int(pct)<0):\n",
        "  #pct=pct*(-1)\n",
        "print(\"ERROR : \"+str(round(pct,2))+\" %\")\n",
        "print(\"ACCURATE : \"+str(round(100-pct,2))+\" %\")"
      ],
      "execution_count": 124,
      "outputs": [
        {
          "output_type": "stream",
          "text": [
            "ERROR :       Adj Close\n",
            "5873      -7.73 %\n",
            "ACCURATE :       Adj Close\n",
            "5873     107.73 %\n"
          ],
          "name": "stdout"
        }
      ]
    },
    {
      "metadata": {
        "id": "5_p2Qirn93_t",
        "colab_type": "code",
        "colab": {
          "base_uri": "https://localhost:8080/",
          "height": 51
        },
        "outputId": "b6c3df45-91be-4ff6-86f4-a7a0d6fe4997"
      },
      "cell_type": "code",
      "source": [
        "print(\"PREDICTED TOMMOROW'S VALUE : \"+str(pre[1]))\n",
        "print(\"PREDICTED TOMMOROW'S VALUE : \"+str(pre[2]))"
      ],
      "execution_count": 125,
      "outputs": [
        {
          "output_type": "stream",
          "text": [
            "PREDICTED TOMMOROW'S VALUE : [1963.4194]\n",
            "PREDICTED TOMMOROW'S VALUE : [1944.9391]\n"
          ],
          "name": "stdout"
        }
      ]
    },
    {
      "metadata": {
        "id": "I6fUfx15X53P",
        "colab_type": "code",
        "colab": {
          "base_uri": "https://localhost:8080/",
          "height": 119
        },
        "outputId": "74298085-5dcb-4e01-a342-3a6df09de336"
      },
      "cell_type": "code",
      "source": [
        "actual_value=pre[1]-pre[1]*diff\n",
        "print(actual_value)\n",
        "print(\"TOMMOROW'S VALUE : \"+str(actual_value))\n",
        "actual_value1=pre[2]-pre[2]*diff\n",
        "print(\"DAY AFTER'S VALUE : \"+str(actual_value1))"
      ],
      "execution_count": 126,
      "outputs": [
        {
          "output_type": "stream",
          "text": [
            "        Adj Close\n",
            "5873  2115.247399\n",
            "TOMMOROW'S VALUE :         Adj Close\n",
            "5873  2115.247399\n",
            "DAY AFTER'S VALUE :         Adj Close\n",
            "5873  2095.337997\n"
          ],
          "name": "stdout"
        }
      ]
    },
    {
      "metadata": {
        "id": "2W1-uwNiCeUz",
        "colab_type": "code",
        "colab": {}
      },
      "cell_type": "code",
      "source": [
        ""
      ],
      "execution_count": 0,
      "outputs": []
    }
  ]
}